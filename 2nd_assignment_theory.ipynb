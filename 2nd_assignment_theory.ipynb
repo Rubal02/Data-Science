{
 "cells": [
  {
   "cell_type": "code",
   "execution_count": 17,
   "id": "1b44ddbd-5c59-47f9-851f-b06f5e445e0f",
   "metadata": {},
   "outputs": [
    {
     "name": "stdout",
     "output_type": "stream",
     "text": [
      "()\n"
     ]
    }
   ],
   "source": [
    "import numpy as np\n",
    "scalar = np.array(10)\n",
    "print(scalar.shape)"
   ]
  },
  {
   "cell_type": "code",
   "execution_count": 21,
   "id": "f4dff0a2-6f4e-4795-8be0-158c6fac9023",
   "metadata": {},
   "outputs": [
    {
     "name": "stdout",
     "output_type": "stream",
     "text": [
      "(3,)\n"
     ]
    }
   ],
   "source": [
    "vector = np.array([1,2,3])\n",
    "print(vector.shape)"
   ]
  },
  {
   "cell_type": "code",
   "execution_count": 23,
   "id": "a61086fd-37dd-4a71-938b-29eb3f608055",
   "metadata": {},
   "outputs": [
    {
     "name": "stdout",
     "output_type": "stream",
     "text": [
      "[[1 2 3]\n",
      " [4 5 6]]\n",
      "(2, 3)\n"
     ]
    }
   ],
   "source": [
    "matrix = np.array([[1,2,3],[4,5,6]])\n",
    "print(matrix)\n",
    "print(matrix.shape)"
   ]
  },
  {
   "cell_type": "code",
   "execution_count": 43,
   "id": "13cbdab7-f005-4cdc-b377-75da848997c9",
   "metadata": {},
   "outputs": [
    {
     "name": "stdout",
     "output_type": "stream",
     "text": [
      "[ 0.  5. 10. 15. 20.]\n"
     ]
    }
   ],
   "source": [
    "arr = np.linspace(0, 20, num=5)\n",
    "print(arr)\n",
    "\n"
   ]
  },
  {
   "cell_type": "code",
   "execution_count": 45,
   "id": "77349e01-2feb-46d4-b4d3-de59d21b7711",
   "metadata": {},
   "outputs": [],
   "source": [
    "arr = np.arange(2,20,4)"
   ]
  },
  {
   "cell_type": "code",
   "execution_count": 49,
   "id": "f2386e4c-36c8-469b-898b-e224833c065d",
   "metadata": {},
   "outputs": [
    {
     "name": "stdout",
     "output_type": "stream",
     "text": [
      "[ 2  6 10 14 18]\n"
     ]
    }
   ],
   "source": [
    "print(arr)"
   ]
  },
  {
   "cell_type": "code",
   "execution_count": 51,
   "id": "6662bcee-ff05-4c6c-817a-320183b0947a",
   "metadata": {},
   "outputs": [
    {
     "name": "stdout",
     "output_type": "stream",
     "text": [
      "[False  True False]\n",
      "[2]\n"
     ]
    }
   ],
   "source": [
    "arr = np.array([1,2,3])\n",
    "result = (arr>1) & (arr<3)\n",
    "print(result)\n",
    "arr1 = arr[result]\n",
    "print(arr1)"
   ]
  },
  {
   "cell_type": "code",
   "execution_count": 53,
   "id": "c82db9d5-41ff-42d7-bae6-3a1fed06efd4",
   "metadata": {},
   "outputs": [
    {
     "name": "stdout",
     "output_type": "stream",
     "text": [
      "[1 2 3 4 5]\n",
      "[1 2 3 4 5]\n"
     ]
    }
   ],
   "source": [
    "lst = [1,2,3,4,5]\n",
    "arr1 = np.array(lst)\n",
    "arr2 = np.asarray(lst)\n",
    "print(arr1)\n",
    "print(arr2)"
   ]
  },
  {
   "cell_type": "code",
   "execution_count": 59,
   "id": "2e5abf9b-b061-49fd-a983-fc2ba6112168",
   "metadata": {},
   "outputs": [
    {
     "name": "stdout",
     "output_type": "stream",
     "text": [
      "False\n",
      "True\n"
     ]
    }
   ],
   "source": [
    "input = np.array([4,5,6])\n",
    "arr1 = np.array(input) # creates new array\n",
    "arr2 = np.asarray(input) # reuses the original array\n",
    "print(arr1 is input)\n",
    "print(arr2 is input)\n"
   ]
  },
  {
   "cell_type": "code",
   "execution_count": 61,
   "id": "27b13261-82f0-4568-8e4d-1b2d596edcf4",
   "metadata": {},
   "outputs": [
    {
     "name": "stdout",
     "output_type": "stream",
     "text": [
      "[1 2 3 4 5]\n",
      "[50  2  3  4  5]\n"
     ]
    }
   ],
   "source": [
    "original = np.array([1,2,3,4,5])\n",
    "arr1 = np.array(original)\n",
    "arr1[0] = 50\n",
    "print(original)\n",
    "print(arr1)"
   ]
  },
  {
   "cell_type": "code",
   "execution_count": 67,
   "id": "79866325-82d6-46e6-aafb-f8a4ff2d533f",
   "metadata": {},
   "outputs": [
    {
     "name": "stdout",
     "output_type": "stream",
     "text": [
      "[50  7  8  9]\n",
      "[50  7  8  9]\n"
     ]
    }
   ],
   "source": [
    "original = np.array([6,7,8,9])\n",
    "arr2 = np.asarray(original)\n",
    "arr2[0] = 50\n",
    "print(original)\n",
    "print(arr2)"
   ]
  },
  {
   "cell_type": "code",
   "execution_count": 86,
   "id": "39b729b5-1158-48b1-b562-3d63ac6509e6",
   "metadata": {},
   "outputs": [
    {
     "name": "stdout",
     "output_type": "stream",
     "text": [
      "NumPy time:0.015156984329223633\n",
      "List time: 0.04729485511779785\n"
     ]
    }
   ],
   "source": [
    "import time\n",
    "# using numpy\n",
    "arr = np.arange(1000000)\n",
    "start = time.time()\n",
    "result = arr*2\n",
    "end = time.time()\n",
    "print(f\"NumPy time:{end-start}\")\n",
    "\n",
    "# using lists\n",
    "lst = list(range(1000000))\n",
    "start = time.time()\n",
    "result = [x*2 for x in lst]\n",
    "end = time.time()\n",
    "print(f\"List time: {end-start}\")\n"
   ]
  },
  {
   "cell_type": "code",
   "execution_count": 110,
   "id": "cd0f5c89-9dbc-4683-ac77-f3ec1f6e17b1",
   "metadata": {},
   "outputs": [
    {
     "name": "stdout",
     "output_type": "stream",
     "text": [
      "[1 2 3 4 5]\n"
     ]
    }
   ],
   "source": [
    "arr = np.array([1,2,3,4,5])\n",
    "np.save('arr.npy',arr)\n",
    "b = np.load('arr.npy')\n",
    "print(b)\n"
   ]
  },
  {
   "cell_type": "code",
   "execution_count": 106,
   "id": "a3506dea-d783-4635-b2c2-33502dcd25ec",
   "metadata": {},
   "outputs": [
    {
     "data": {
      "text/plain": [
       "NpzFile 'save.npz' with keys: array1, array2"
      ]
     },
     "execution_count": 106,
     "metadata": {},
     "output_type": "execute_result"
    }
   ],
   "source": [
    "a = np.array([1,2,3,4,5])\n",
    "b = np.array([6,7,8,9,10])\n",
    "np.savez('save.npz', array1=a, array2=b)\n",
    "c = np.load('save.npz')\n",
    "c"
   ]
  },
  {
   "cell_type": "code",
   "execution_count": 112,
   "id": "59612d0a-44cc-4fc1-a859-2d2c22303179",
   "metadata": {},
   "outputs": [
    {
     "name": "stdout",
     "output_type": "stream",
     "text": [
      "[0 1 1 1 1]\n"
     ]
    }
   ],
   "source": [
    "arr = np.array([2,5,8,10,12])\n",
    "result = np.where(arr<5,0,1)\n",
    "print(result)"
   ]
  },
  {
   "cell_type": "code",
   "execution_count": 120,
   "id": "7723028a-bf2b-474e-a2b4-d0ab84337529",
   "metadata": {},
   "outputs": [
    {
     "name": "stdout",
     "output_type": "stream",
     "text": [
      "(array([0, 2, 3, 6]),)\n"
     ]
    }
   ],
   "source": [
    "a = np.array([1,0,5,6,0,0,2])\n",
    "index = np.where(a!=0)\n",
    "print(index)"
   ]
  },
  {
   "cell_type": "code",
   "execution_count": null,
   "id": "68b4b699-4b48-4f38-9b90-df021a42a693",
   "metadata": {},
   "outputs": [],
   "source": []
  }
 ],
 "metadata": {
  "kernelspec": {
   "display_name": "Python 3 (ipykernel)",
   "language": "python",
   "name": "python3"
  },
  "language_info": {
   "codemirror_mode": {
    "name": "ipython",
    "version": 3
   },
   "file_extension": ".py",
   "mimetype": "text/x-python",
   "name": "python",
   "nbconvert_exporter": "python",
   "pygments_lexer": "ipython3",
   "version": "3.12.4"
  }
 },
 "nbformat": 4,
 "nbformat_minor": 5
}
