{
 "cells": [
  {
   "cell_type": "code",
   "execution_count": 3,
   "id": "6bc574a7-f269-45ce-9545-1728710b6619",
   "metadata": {},
   "outputs": [],
   "source": [
    "# 1. Array Creation\n",
    "# Create a 1-dimensional array of integers from 1 to 10.\n",
    "import numpy as np"
   ]
  },
  {
   "cell_type": "code",
   "execution_count": 7,
   "id": "c94b5b2a-21cd-48e8-a9c2-5050ff81a5ae",
   "metadata": {},
   "outputs": [
    {
     "name": "stdout",
     "output_type": "stream",
     "text": [
      "[ 1  2  3  4  5  6  7  8  9 10]\n"
     ]
    }
   ],
   "source": [
    "a = np.array([1,2,3,4,5,6,7,8,9,10])\n",
    "print(a)"
   ]
  },
  {
   "cell_type": "code",
   "execution_count": 9,
   "id": "76242f81-1e52-43b4-bc57-ca7d07ec80a8",
   "metadata": {},
   "outputs": [
    {
     "name": "stdout",
     "output_type": "stream",
     "text": [
      "[[0.49265358 0.0288548  0.75163797]\n",
      " [0.83423944 0.11994877 0.51370653]]\n"
     ]
    }
   ],
   "source": [
    "# Create a 2-dimensional array with random float values of shape (3, 4).\\\n",
    "b = np.random.rand(2,3)\n",
    "print(b)"
   ]
  },
  {
   "cell_type": "code",
   "execution_count": 7,
   "id": "5a7f2e6d-e82b-4b6f-9bdb-2dfb50782712",
   "metadata": {},
   "outputs": [
    {
     "name": "stdout",
     "output_type": "stream",
     "text": [
      "[[[0. 0. 0. 0.]\n",
      "  [0. 0. 0. 0.]\n",
      "  [0. 0. 0. 0.]]\n",
      "\n",
      " [[0. 0. 0. 0.]\n",
      "  [0. 0. 0. 0.]\n",
      "  [0. 0. 0. 0.]]]\n"
     ]
    }
   ],
   "source": [
    "# Create a 3-dimensional array of zeros with shape (2, 3, 4).\n",
    "c = np.zeros((2,3,4))\n",
    "print(c)"
   ]
  },
  {
   "cell_type": "code",
   "execution_count": 15,
   "id": "aa0182eb-bec6-44c2-a12b-fa5c450479bc",
   "metadata": {},
   "outputs": [
    {
     "name": "stdout",
     "output_type": "stream",
     "text": [
      "[ 5 12 18]\n",
      "[ 1 -2 -2]\n",
      "[ 6 35 80]\n",
      "[1.5        0.71428571 0.8       ]\n"
     ]
    }
   ],
   "source": [
    "# 2. Array operation\n",
    "# Given two 1-dimensional arrays, perform element-wise addition,subtraction, multiplication, and division.\n",
    "op1 = np.array([3,5,8])\n",
    "op2 = np.array([2,7,10])\n",
    "sum = op1+op2\n",
    "diff = op1-op2\n",
    "product = op1*op2\n",
    "div = op1/op2\n",
    "print(sum)\n",
    "print(diff)\n",
    "print(product)\n",
    "print(div)"
   ]
  },
  {
   "cell_type": "code",
   "execution_count": 19,
   "id": "d108f3ba-9a9c-46a2-90ec-bb16d9b092f0",
   "metadata": {},
   "outputs": [
    {
     "name": "stdout",
     "output_type": "stream",
     "text": [
      "5.5\n",
      "5.5\n",
      "2.8722813232690143\n"
     ]
    }
   ],
   "source": [
    "# Calculate the mean, median, and standard deviation of a given 1-dimensional array.\n",
    "s = ([1,2,3,4,5,6,7,8,9,10])\n",
    "mean_s = np.mean(s)\n",
    "median_s = np.median(s)\n",
    "std_deviation = np.std(s)\n",
    "print(mean_s)\n",
    "print(median_s)\n",
    "print(std_deviation)"
   ]
  },
  {
   "cell_type": "code",
   "execution_count": 29,
   "id": "1b2df753-144a-499e-8558-17448a3d67ea",
   "metadata": {},
   "outputs": [
    {
     "name": "stdout",
     "output_type": "stream",
     "text": [
      "[[ 1  2  3  4]\n",
      " [ 5  6  7  8]\n",
      " [ 9 10 11 12]]\n"
     ]
    }
   ],
   "source": [
    "# Reshape a 1-dimensional array into a 2-dimensional array of shape (3,4).\n",
    "d = np.array([1,2,3,4,5,6,7,8,9,10,11,12])\n",
    "a = d.reshape(3,4)\n",
    "print(a)"
   ]
  },
  {
   "cell_type": "code",
   "execution_count": 7,
   "id": "54580166-ea1e-43a5-8b26-f76c4d67d39f",
   "metadata": {},
   "outputs": [
    {
     "name": "stdout",
     "output_type": "stream",
     "text": [
      "[1 2 3]\n",
      "[3 6 9]\n"
     ]
    }
   ],
   "source": [
    "# 3. Array Indexing and slicing\n",
    "# Extract the first row and last column of a 2-dimensional array.\n",
    "a = np.array([[1,2,3],[4,5,6],[7,8,9]])\n",
    "ext_1st = a[0,:]\n",
    "ext_last = a[:,2]\n",
    "#print(a)\n",
    "print(ext_1st)\n",
    "print(ext_last)"
   ]
  },
  {
   "cell_type": "code",
   "execution_count": 15,
   "id": "63669c75-6522-4634-a431-7ba3abb1a539",
   "metadata": {},
   "outputs": [
    {
     "name": "stdout",
     "output_type": "stream",
     "text": [
      "[9 8 7 6 5 4 3 2 1]\n"
     ]
    }
   ],
   "source": [
    "#Reverse the order of elements in a 1-dimensional array.\n",
    "a = np.array([1,2,3,4,5,6,7,8,9])\n",
    "rev = a[::-1]     # start:stop:step\n",
    "print(rev)"
   ]
  },
  {
   "cell_type": "code",
   "execution_count": 17,
   "id": "3f425690-5e29-412f-871e-4e2a87b63f4c",
   "metadata": {},
   "outputs": [
    {
     "name": "stdout",
     "output_type": "stream",
     "text": [
      "[[False False False]\n",
      " [False False  True]\n",
      " [ True  True  True]]\n",
      "[6 7 8 9]\n"
     ]
    }
   ],
   "source": [
    "# Select elements from a 2-dimensional array that satisfy a specific condition (e.g., values greater than a certain threshold).\n",
    "a = np.array([[1,2,3],[4,5,6],[7,8,9]])\n",
    "condition = a>5\n",
    "print(condition)\n",
    "b = a[condition]\n",
    "print(b)"
   ]
  },
  {
   "cell_type": "code",
   "execution_count": 19,
   "id": "b1a318f5-eb97-4831-b143-c55012ad6b13",
   "metadata": {},
   "outputs": [
    {
     "name": "stdout",
     "output_type": "stream",
     "text": [
      "[[19 22 16]\n",
      " [21 24 25]]\n"
     ]
    }
   ],
   "source": [
    "# 4. Array Broadcasting\n",
    "# Add a scalar value to each element of a 2-dimensional array.\n",
    "a = np.array([[4,7,1],[6,9,10]])\n",
    "sca_value = 15\n",
    "b = a + sca_value\n",
    "print(b)"
   ]
  },
  {
   "cell_type": "code",
   "execution_count": 21,
   "id": "95e72d55-5440-43e4-b502-fb1a00720d85",
   "metadata": {},
   "outputs": [
    {
     "name": "stdout",
     "output_type": "stream",
     "text": [
      "[[ 5  4 21  4]\n",
      " [ 4 14  6 12]]\n"
     ]
    }
   ],
   "source": [
    "#Multiply a 1-dimensional array with a 2-dimensional array, leveraging NumPy's broadcasting rules.\n",
    "a = np.array([1,2,3,4])\n",
    "b = np.array([[5,2,7,1],[4,7,2,3]])\n",
    "c = a*b\n",
    "print(c)\n"
   ]
  },
  {
   "cell_type": "code",
   "execution_count": 23,
   "id": "835cc18d-f224-4cf5-b151-b79db8c6052b",
   "metadata": {},
   "outputs": [
    {
     "name": "stdout",
     "output_type": "stream",
     "text": [
      "130\n"
     ]
    }
   ],
   "source": [
    "# 5. Linear Algebra\n",
    "# Calculate the dot product of two 1-dimensional arrays.\n",
    "a = np.array([1,2,3,4,5])\n",
    "b = np.array([6,7,8,9,10])\n",
    "dot_product = np.dot(a,b)\n",
    "print(dot_product)\n"
   ]
  },
  {
   "cell_type": "code",
   "execution_count": 29,
   "id": "f774cb68-f86b-45e6-b461-c5b3852cb45e",
   "metadata": {},
   "outputs": [
    {
     "name": "stdout",
     "output_type": "stream",
     "text": [
      "[[22 33]\n",
      " [ 7  9]]\n",
      "[[22 33]\n",
      " [ 7  9]]\n"
     ]
    }
   ],
   "source": [
    "#Compute the matrix multiplication of two 2-dimensional arrays.\n",
    "a = np.array([[4,5],[1,2]])\n",
    "b = np.array([[3,7],[2,1]])\n",
    "mat_mul = np.dot(a,b)\n",
    "mat_mul1 = a @ b\n",
    "print(mat_mul)\n",
    "print(mat_mul1)"
   ]
  },
  {
   "cell_type": "code",
   "execution_count": 37,
   "id": "578c5be8-15ee-41c1-93d1-0b0da56b943f",
   "metadata": {},
   "outputs": [
    {
     "name": "stdout",
     "output_type": "stream",
     "text": [
      "-303.00000000000017\n",
      "[[-0.10231023 -0.17821782  0.18151815]\n",
      " [-0.01320132  0.26732673 -0.10561056]\n",
      " [ 0.12541254 -0.03960396  0.00330033]]\n"
     ]
    }
   ],
   "source": [
    "# Find the inverse and determinant of a square matrix.\n",
    "a = np.array([[1,2,9],[4,7,4],[10,8,9]])\n",
    "det_a = np.linalg.det(a)\n",
    "inv_a = np.linalg.inv(a)\n",
    "print(det_a)\n",
    "print(inv_a)"
   ]
  },
  {
   "cell_type": "code",
   "execution_count": null,
   "id": "4dc50de8-4c7f-46a8-bcc8-43447aebc10d",
   "metadata": {},
   "outputs": [],
   "source": []
  }
 ],
 "metadata": {
  "kernelspec": {
   "display_name": "Python 3 (ipykernel)",
   "language": "python",
   "name": "python3"
  },
  "language_info": {
   "codemirror_mode": {
    "name": "ipython",
    "version": 3
   },
   "file_extension": ".py",
   "mimetype": "text/x-python",
   "name": "python",
   "nbconvert_exporter": "python",
   "pygments_lexer": "ipython3",
   "version": "3.12.4"
  }
 },
 "nbformat": 4,
 "nbformat_minor": 5
}
