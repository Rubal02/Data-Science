{
 "cells": [
  {
   "cell_type": "code",
   "execution_count": 1,
   "id": "b06ff1e9-83d4-47c0-9ce4-ab38a1e24775",
   "metadata": {},
   "outputs": [
    {
     "data": {
      "text/plain": [
       "['Abraham Lincoln', 'John Wick', 'Tumbad']"
      ]
     },
     "execution_count": 1,
     "metadata": {},
     "output_type": "execute_result"
    }
   ],
   "source": [
    "movies = ['Abraham Lincoln', 'John Wick', 'Tumbad']\n",
    "movies"
   ]
  },
  {
   "cell_type": "code",
   "execution_count": 3,
   "id": "2fff5d6d-2ba5-4cfa-a46f-3c7b154fd466",
   "metadata": {},
   "outputs": [
    {
     "data": {
      "text/plain": [
       "['Abraham Lincoln', 'John Wick', 'Tumbad', 'Inception']"
      ]
     },
     "execution_count": 3,
     "metadata": {},
     "output_type": "execute_result"
    }
   ],
   "source": [
    "movies.append('Inception')\n",
    "movies"
   ]
  },
  {
   "cell_type": "code",
   "execution_count": 5,
   "id": "f619f4e9-89dc-4ae4-ad90-eda2ac04fdab",
   "metadata": {},
   "outputs": [
    {
     "data": {
      "text/plain": [
       "[1, 2, 3, 4, 5, 6, 7, 8, 9, 10]"
      ]
     },
     "execution_count": 5,
     "metadata": {},
     "output_type": "execute_result"
    }
   ],
   "source": [
    "num = [1,2,3,4,5,6,7,8,9,10]\n",
    "num"
   ]
  },
  {
   "cell_type": "code",
   "execution_count": 7,
   "id": "14e608a8-9be2-4ed7-ad93-9a26ed3342a2",
   "metadata": {},
   "outputs": [
    {
     "data": {
      "text/plain": [
       "55"
      ]
     },
     "execution_count": 7,
     "metadata": {},
     "output_type": "execute_result"
    }
   ],
   "source": [
    "add = sum(num)\n",
    "add"
   ]
  },
  {
   "cell_type": "code",
   "execution_count": 9,
   "id": "586e654e-d612-4293-a40e-df81b9e7a6ed",
   "metadata": {},
   "outputs": [
    {
     "data": {
      "text/plain": [
       "['This', 'DS', 45, 3.14]"
      ]
     },
     "execution_count": 9,
     "metadata": {},
     "output_type": "execute_result"
    }
   ],
   "source": [
    "mix_num = ['This','DS',45,3.14]\n",
    "mix_num"
   ]
  },
  {
   "cell_type": "code",
   "execution_count": 11,
   "id": "eeeaf9e5-d682-43fa-a0f8-2df3dc31a8d9",
   "metadata": {},
   "outputs": [
    {
     "data": {
      "text/plain": [
       "'This'"
      ]
     },
     "execution_count": 11,
     "metadata": {},
     "output_type": "execute_result"
    }
   ],
   "source": [
    "mix_num.pop(0)"
   ]
  },
  {
   "cell_type": "code",
   "execution_count": 13,
   "id": "dd1a323f-16c7-4486-861c-48fb04f99750",
   "metadata": {},
   "outputs": [
    {
     "data": {
      "text/plain": [
       "['DS', 45, 3.14]"
      ]
     },
     "execution_count": 13,
     "metadata": {},
     "output_type": "execute_result"
    }
   ],
   "source": [
    "mix_num"
   ]
  },
  {
   "cell_type": "code",
   "execution_count": 15,
   "id": "d511eaff-fe94-4f0c-8ff4-2cfcc5128dac",
   "metadata": {},
   "outputs": [
    {
     "data": {
      "text/plain": [
       "('Sunday', 'Monday', 'Tuesday', 'Wednesday', 'Thursday', 'Friday', 'Saturday')"
      ]
     },
     "execution_count": 15,
     "metadata": {},
     "output_type": "execute_result"
    }
   ],
   "source": [
    "names_of_days = ('Sunday','Monday','Tuesday','Wednesday','Thursday','Friday','Saturday')\n",
    "names_of_days\n"
   ]
  },
  {
   "cell_type": "code",
   "execution_count": 17,
   "id": "0afadbd2-67d3-44e2-a9e2-62dadf7e5c38",
   "metadata": {},
   "outputs": [
    {
     "data": {
      "text/plain": [
       "'Tuesday'"
      ]
     },
     "execution_count": 17,
     "metadata": {},
     "output_type": "execute_result"
    }
   ],
   "source": [
    "third_day = names_of_days[2]\n",
    "third_day"
   ]
  },
  {
   "cell_type": "code",
   "execution_count": 19,
   "id": "adf1d255-f4fd-4bb6-86c4-dadca4f09c4a",
   "metadata": {},
   "outputs": [
    {
     "data": {
      "text/plain": [
       "('Red', 'Green', 'Blue', 'Yellow')"
      ]
     },
     "execution_count": 19,
     "metadata": {},
     "output_type": "execute_result"
    }
   ],
   "source": [
    "colors = ('Red','Green','Blue','Yellow')\n",
    "colors"
   ]
  },
  {
   "cell_type": "code",
   "execution_count": 21,
   "id": "bc80c820-56cc-4f31-838f-b891a2bbd32b",
   "metadata": {},
   "outputs": [
    {
     "data": {
      "text/plain": [
       "True"
      ]
     },
     "execution_count": 21,
     "metadata": {},
     "output_type": "execute_result"
    }
   ],
   "source": [
    "certain_color = \"Green\"\n",
    "color_present = certain_color in colors\n",
    "color_present"
   ]
  },
  {
   "cell_type": "code",
   "execution_count": 23,
   "id": "f1703090-b35a-4584-9d35-d47bbe27440f",
   "metadata": {},
   "outputs": [
    {
     "data": {
      "text/plain": [
       "{'title': 'Spy', 'author': 'William', 'year': 2015}"
      ]
     },
     "execution_count": 23,
     "metadata": {},
     "output_type": "execute_result"
    }
   ],
   "source": [
    "book_info = {'title':'Spy','author':'William','year':2015}\n",
    "book_info"
   ]
  },
  {
   "cell_type": "code",
   "execution_count": 27,
   "id": "eafb10ea-e124-471d-a2de-6a58597b349f",
   "metadata": {},
   "outputs": [
    {
     "data": {
      "text/plain": [
       "{'apple': 'red', 'mango': 'green', 'grapes': 'black'}"
      ]
     },
     "execution_count": 27,
     "metadata": {},
     "output_type": "execute_result"
    }
   ],
   "source": [
    "fruit_color = {'apple':'red','mango':'green','grapes':'black'}\n",
    "fruit_color"
   ]
  },
  {
   "cell_type": "code",
   "execution_count": 29,
   "id": "da0605ba-6097-4fcc-b458-51c9818fb31b",
   "metadata": {},
   "outputs": [
    {
     "data": {
      "text/plain": [
       "{'apple': 'red', 'mango': 'green', 'grapes': 'black', 'banana': 'yellow'}"
      ]
     },
     "execution_count": 29,
     "metadata": {},
     "output_type": "execute_result"
    }
   ],
   "source": [
    "fruit_color['banana'] = 'yellow'\n",
    "fruit_color"
   ]
  },
  {
   "cell_type": "code",
   "execution_count": 31,
   "id": "0491a786-0fe5-4ca1-a4cc-7cd45ef79832",
   "metadata": {},
   "outputs": [
    {
     "data": {
      "text/plain": [
       "{'Kathmandu': 3000000, 'Pokhara': 1000000, 'Biratnagar': 200000}"
      ]
     },
     "execution_count": 31,
     "metadata": {},
     "output_type": "execute_result"
    }
   ],
   "source": [
    "population = {'Kathmandu':3000000,'Pokhara':1000000,'Biratnagar':200000}\n",
    "population"
   ]
  },
  {
   "cell_type": "code",
   "execution_count": 33,
   "id": "8819edcd-db51-4460-8129-8500171ef589",
   "metadata": {},
   "outputs": [
    {
     "data": {
      "text/plain": [
       "{'Kathmandu': 3000000, 'Pokhara': 1000000}"
      ]
     },
     "execution_count": 33,
     "metadata": {},
     "output_type": "execute_result"
    }
   ],
   "source": [
    "remove_city = population.pop('Biratnagar')\n",
    "population"
   ]
  },
  {
   "cell_type": "code",
   "execution_count": 35,
   "id": "facbe356-25d1-447e-a767-9fee11899fe4",
   "metadata": {},
   "outputs": [
    {
     "data": {
      "text/plain": [
       "200000"
      ]
     },
     "execution_count": 35,
     "metadata": {},
     "output_type": "execute_result"
    }
   ],
   "source": [
    "remove_city"
   ]
  },
  {
   "cell_type": "code",
   "execution_count": null,
   "id": "7efa74a7-a5cf-4687-ba7f-260a6660bdca",
   "metadata": {},
   "outputs": [],
   "source": []
  }
 ],
 "metadata": {
  "kernelspec": {
   "display_name": "Python 3 (ipykernel)",
   "language": "python",
   "name": "python3"
  },
  "language_info": {
   "codemirror_mode": {
    "name": "ipython",
    "version": 3
   },
   "file_extension": ".py",
   "mimetype": "text/x-python",
   "name": "python",
   "nbconvert_exporter": "python",
   "pygments_lexer": "ipython3",
   "version": "3.12.4"
  }
 },
 "nbformat": 4,
 "nbformat_minor": 5
}
